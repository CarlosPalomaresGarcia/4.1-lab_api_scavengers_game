{
 "cells": [
  {
   "cell_type": "markdown",
   "id": "threaded-asbestos",
   "metadata": {},
   "source": [
    "# Challenge 2: Count Commits\n",
    "\n",
    "Count how many commits were made in the past week.\n",
    "\n",
    "Obtain all the commits made in the past week via API, which is a JSON array that contains multiple commit objects.\n",
    "\n",
    "Count how many commit objects are contained in the array."
   ]
  },
  {
   "cell_type": "markdown",
   "id": "norwegian-praise",
   "metadata": {},
   "source": [
    "⚠️ **Remember to limit your output before submission**."
   ]
  },
  {
   "cell_type": "code",
   "execution_count": 3,
   "id": "f99caa00",
   "metadata": {},
   "outputs": [],
   "source": [
    "import json\n",
    "import requests as req"
   ]
  },
  {
   "cell_type": "code",
   "execution_count": 4,
   "id": "developing-printing",
   "metadata": {},
   "outputs": [],
   "source": [
    "# Creo el archivo oculta para que no se vea mi token.\n",
    "# Importo el token\n",
    "with open('../token.txt', 'r') as file:\n",
    "    pass_=file.read()\n",
    "\n",
    "HEADER={'Authorization': 'token ' + pass_}"
   ]
  },
  {
   "cell_type": "code",
   "execution_count": 42,
   "id": "creative-stable",
   "metadata": {},
   "outputs": [],
   "source": [
    "# He comprobado con el chat que puedo hacer requests con parametros indicando la parte del json que quiero filtrar\n",
    "url = \"https://api.github.com/repos/ironhack-datalabs/datamad1020-rev/commits\"\n",
    "\n",
    "# durante 2023 no hay ningun commit, lo he cambiado a la semana pasada, pero de 2022.\n",
    "parametros = {'since': '2022-04-24'}\n",
    "challenge2 = req.get(url, params=parametros)\n",
    "commits_done = challenge2.json() # Lo paso a json"
   ]
  },
  {
   "cell_type": "code",
   "execution_count": 43,
   "id": "04cc00f0",
   "metadata": {},
   "outputs": [
    {
     "data": {
      "text/plain": [
       "1"
      ]
     },
     "execution_count": 43,
     "metadata": {},
     "output_type": "execute_result"
    }
   ],
   "source": [
    "len(commits_done)"
   ]
  },
  {
   "attachments": {},
   "cell_type": "markdown",
   "id": "c0835914",
   "metadata": {},
   "source": [
    "Para probar si es cierto que solo habia uno. He cambiado la fecha a 2020.\n",
    "\n",
    "Con el codigo he comprobado que desde el 2020 hay 30 commits."
   ]
  },
  {
   "cell_type": "code",
   "execution_count": 44,
   "id": "c73606b8",
   "metadata": {},
   "outputs": [
    {
     "data": {
      "text/plain": [
       "30"
      ]
     },
     "execution_count": 44,
     "metadata": {},
     "output_type": "execute_result"
    }
   ],
   "source": [
    "# He comprobado con el chat que puedo hacer requests con parametros indicando la parte del json que quiero filtrar\n",
    "url2 = \"https://api.github.com/repos/ironhack-datalabs/datamad1020-rev/commits\"\n",
    "\n",
    "# durante 2023 no hay ningun commit, lo he cambiado a la semana pasada, pero de 2022.\n",
    "parametros2 = {'since': '2020-01-01'}\n",
    "challenge2_2 = req.get(url2, params=parametros2)\n",
    "commits_done2 = challenge2_2.json() # Lo paso a json\n",
    "len(commits_done2)"
   ]
  }
 ],
 "metadata": {
  "kernelspec": {
   "display_name": "Python 3",
   "language": "python",
   "name": "python3"
  },
  "language_info": {
   "codemirror_mode": {
    "name": "ipython",
    "version": 3
   },
   "file_extension": ".py",
   "mimetype": "text/x-python",
   "name": "python",
   "nbconvert_exporter": "python",
   "pygments_lexer": "ipython3",
   "version": "3.9.13"
  },
  "toc": {
   "base_numbering": 1,
   "nav_menu": {},
   "number_sections": true,
   "sideBar": true,
   "skip_h1_title": true,
   "title_cell": "Table of Contents",
   "title_sidebar": "Contents",
   "toc_cell": false,
   "toc_position": {
    "height": "calc(100% - 180px)",
    "left": "10px",
    "top": "150px",
    "width": "288px"
   },
   "toc_section_display": true,
   "toc_window_display": true
  }
 },
 "nbformat": 4,
 "nbformat_minor": 5
}
