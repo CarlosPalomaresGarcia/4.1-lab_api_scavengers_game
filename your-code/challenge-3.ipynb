{
 "cells": [
  {
   "cell_type": "markdown",
   "id": "defensive-clock",
   "metadata": {},
   "source": [
    "# Challenge 3: Hidden Cold Joke\n",
    "\n",
    "Using Python, call Github API to find out the cold joke contained in the 24 secret files in the following repo:\n",
    "\n",
    "https://github.com/ironhack-datalabs/scavenger\n",
    "\n",
    "The filenames of the secret files contain .scavengerhunt and they are scattered in different directories of this repo. The secret files are named from .0001.scavengerhunt to .0024.scavengerhunt. They are scattered randomly throughout this repo. You need to search for these files by calling the Github API, not searching the local files on your computer.\n",
    "\n",
    "\n",
    "After you find out the secrete files:\n",
    "\n",
    "Sort the filenames ascendingly.\n",
    "\n",
    "Read the content of each secret files into an array of strings.\n",
    "\n",
    "Concatenate the strings in the array separating each two with a whitespace.\n",
    "\n",
    "Print out the joke."
   ]
  },
  {
   "cell_type": "markdown",
   "id": "universal-length",
   "metadata": {},
   "source": [
    "⚠️ **Remember to limit your output before submission**."
   ]
  },
  {
   "cell_type": "code",
   "execution_count": 4,
   "id": "toxic-trading",
   "metadata": {},
   "outputs": [],
   "source": [
    "import json\n",
    "import requests\n",
    "\n",
    "# Creo el archivo oculta para que no se vea mi token.\n",
    "# Importo el token\n",
    "with open('../token.txt', 'r') as file:\n",
    "    pass_=file.read()\n",
    "\n",
    "HEADER={'Authorization': 'token ' + pass_}"
   ]
  },
  {
   "attachments": {},
   "cell_type": "markdown",
   "id": "22ab5bee",
   "metadata": {},
   "source": [
    "No se como solucionar este challengue. Lo he sacado del CHATGPT para al menos intentar entender como se hace.\n",
    "Voy añadiendo mis comentarios"
   ]
  },
  {
   "cell_type": "code",
   "execution_count": 9,
   "id": "522e51d9",
   "metadata": {},
   "outputs": [
    {
     "name": "stdout",
     "output_type": "stream",
     "text": [
      "\n"
     ]
    }
   ],
   "source": [
    "import requests\n",
    "import base64\n",
    "\n",
    "# hacer una solicitud GET para obtener la lista de contenido del directorio raíz\n",
    "root_url = 'https://api.github.com/repos/ironhack-datalabs/scavenger/contents/'\n",
    "response = requests.get(root_url)\n",
    "\n",
    "\n",
    "# buscar archivos scavengerhunt y guardar sus rutas en una lista\n",
    "file_paths = []\n",
    "for item in response.json():\n",
    "    if isinstance(item, dict) and item['name'].endswith('.scavengerhunt'):\n",
    "        file_paths.append(item['path'])\n",
    "\n",
    "# hacer una solicitud GET para cada archivo scavengerhunt y obtener su contenido\n",
    "file_contents = []\n",
    "for path in file_paths:\n",
    "    url = f'https://api.github.com/repos/ironhack-datalabs/scavenger/contents/{path}'\n",
    "    response = requests.get(url)\n",
    "    file_contents.append(response.json()['content'])\n",
    "\n",
    "# ordenar las rutas de archivo alfabéticamente y leer el contenido de cada archivo en un array de cadenas\n",
    "file_contents_sorted = []\n",
    "for path in sorted(file_paths):\n",
    "    index = file_paths.index(path)\n",
    "    file_content = requests.get(f'https://api.github.com/repos/ironhack-datalabs/scavenger/contents/{path}').json()['content']\n",
    "    decoded_content = base64.b64decode(file_content).decode('utf-8')\n",
    "    file_contents_sorted.append(decoded_content)\n",
    "\n",
    "# concatenar las cadenas en el array separando cada dos con un espacio en blanco\n",
    "joke = ' '.join(file_contents_sorted)\n",
    "\n",
    "# imprimir el chiste resultante\n",
    "print(joke)\n"
   ]
  }
 ],
 "metadata": {
  "kernelspec": {
   "display_name": "Python 3",
   "language": "python",
   "name": "python3"
  },
  "language_info": {
   "codemirror_mode": {
    "name": "ipython",
    "version": 3
   },
   "file_extension": ".py",
   "mimetype": "text/x-python",
   "name": "python",
   "nbconvert_exporter": "python",
   "pygments_lexer": "ipython3",
   "version": "3.9.13"
  },
  "toc": {
   "base_numbering": 1,
   "nav_menu": {},
   "number_sections": true,
   "sideBar": true,
   "skip_h1_title": true,
   "title_cell": "Table of Contents",
   "title_sidebar": "Contents",
   "toc_cell": false,
   "toc_position": {},
   "toc_section_display": true,
   "toc_window_display": true
  }
 },
 "nbformat": 4,
 "nbformat_minor": 5
}
